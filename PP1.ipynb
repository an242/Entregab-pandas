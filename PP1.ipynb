{
 "cells": [
  {
   "cell_type": "code",
   "execution_count": 8,
   "id": "4cfc6fec-2ef4-417a-95a0-8a2ba57d79f5",
   "metadata": {},
   "outputs": [
    {
     "name": "stdout",
     "output_type": "stream",
     "text": [
      "Fecha actual: (28, 2, 2020)\n",
      "Día siguiente: (29, 2, 2020)\n"
     ]
    }
   ],
   "source": [
    "def es_bisiesto(a):\n",
    "    \"\"\"Devuelve True si el año es bisiesto.\"\"\"\n",
    "    return a % 4 == 0 and (a % 100 != 0 or a % 400 == 0)\n",
    "\n",
    "def dias_mes(m, a):\n",
    "    \"\"\"Devuelve el número de días del mes m en el año a.\"\"\"\n",
    "    if m in (1, 3, 5, 7, 8, 10, 12):\n",
    "        return 31\n",
    "    elif m in (4, 6, 9, 11):\n",
    "        return 30\n",
    "    elif m == 2:\n",
    "        return 29 if es_bisiesto(a) else 28\n",
    "    else:\n",
    "        raise ValueError(\"Mes inválido\")\n",
    "\n",
    "def siguiente_dia(d, m, a):\n",
    "    \"\"\"Devuelve una tupla (día, mes, año) correspondiente al día siguiente.\"\"\"\n",
    "    dm = dias_mes(m, a)\n",
    "    if d < dm:\n",
    "        return d + 1, m, a\n",
    "    elif m < 12:\n",
    "        return 1, m + 1, a\n",
    "    else:\n",
    "        return 1, 1, a + 1\n",
    "\n",
    "fecha_actual = (28, 2, 2020)  # Año bisiesto\n",
    "print(\"Fecha actual:\", fecha_actual)\n",
    "print(\"Día siguiente:\", siguiente_dia(*fecha_actual))"
   ]
  },
  {
   "cell_type": "code",
   "execution_count": 7,
   "id": "3b835b30-f995-4875-b5df-f8b4c0fb4ce6",
   "metadata": {},
   "outputs": [
    {
     "name": "stdout",
     "output_type": "stream",
     "text": [
      "Perro: 1\n",
      "Gato: 1\n",
      "Casa: 1\n",
      "Coche: 1\n",
      "Árbol: 1\n",
      "Sol: 1\n",
      "Luna: 1\n",
      "Mar: 1\n",
      "Monta~na: 1\n",
      "Río: 1\n",
      "Playa: 1\n",
      "Libro: 1\n",
      "Computadora: 1\n",
      "Teléfono: 1\n",
      "Amigo: 1\n",
      "Familia: 1\n",
      "Trabajo: 1\n",
      "Comida: 1\n",
      "Película: 1\n",
      "Música: 1\n",
      "Viaje: 1\n",
      "Deporte: 1\n",
      "Juego: 1\n",
      "Amor: 1\n",
      "Odio: 1\n",
      "Felicidad: 1\n",
      "Tristeza: 1\n",
      "Alegría: 1\n",
      "Dolor: 1\n",
      "Sue~no: 1\n",
      "Noche: 1\n",
      "Día: 1\n",
      "Agua: 1\n",
      "Fuego: 1\n",
      "Aire: 1\n",
      "Tierra: 1\n",
      "Cielo: 1\n",
      "Estrella: 1\n",
      "Flor: 1\n",
      "Fruta: 1\n",
      "Verdura: 1\n",
      "Chocolate: 1\n",
      "Café: 1\n",
      "Té: 1\n",
      "Vino: 1\n",
      "Cerveza: 1\n",
      "Dinero: 1\n",
      "Tiempo: 1\n",
      "Reloj: 2\n"
     ]
    }
   ],
   "source": [
    "from collections import Counter\n",
    "\n",
    "palabras_espanol = [\n",
    "    \"Perro\", \"Gato\", \"Casa\", \"Coche\", \"Árbol\", \"Sol\", \"Luna\", \"Mar\", \"Monta~na\", \"Río\",\n",
    "    \"Playa\", \"Libro\", \"Computadora\", \"Teléfono\", \"Amigo\", \"Familia\", \"Trabajo\", \"Comida\", \n",
    "    \"Película\", \"Música\", \"Viaje\", \"Deporte\", \"Juego\", \"Amor\", \"Odio\", \"Felicidad\", \"Tristeza\", \n",
    "    \"Alegría\", \"Dolor\", \"Sue~no\", \"Noche\", \"Día\", \"Agua\", \"Fuego\", \"Aire\", \"Tierra\", \"Cielo\", \n",
    "    \"Estrella\", \"Flor\", \"Fruta\", \"Verdura\", \"Chocolate\", \"Café\", \"Té\", \"Vino\", \"Cerveza\", \n",
    "    \"Dinero\", \"Tiempo\", \"Reloj\", \"Reloj\"\n",
    "]\n",
    "\n",
    "contador = Counter(palabras_espanol)\n",
    "\n",
    "# Mostrar cada palabra y su cantidad de ocurrencias\n",
    "for palabra, cantidad in contador.items():\n",
    "    print(f\"{palabra}: {cantidad}\")\n"
   ]
  },
  {
   "cell_type": "code",
   "execution_count": 6,
   "id": "47369d3c-3788-4de6-b64e-4dbc22a2e435",
   "metadata": {},
   "outputs": [
    {
     "name": "stdout",
     "output_type": "stream",
     "text": [
      "Precio máximo de cebolla: 0.39 euros\n",
      "Precio máximo de patata: 0.43 euros\n",
      "Precio máximo de naranja: 0.56 euros\n",
      "\n",
      "El producto más caro es: naranja\n",
      "Las naranjas son más caras el día: 2\n"
     ]
    }
   ],
   "source": [
    "precio_origen = {\n",
    "    \"cebolla\": [30.3, 20.3, 25.9, 39.0],  # céntimos/kg\n",
    "    \"patata\":  [0.33, 0.43, 0.34, 0.12],   # euro/kg\n",
    "    \"naranja\": [0.45, 0.56, 0.38, 0.43]     # euro/kg\n",
    "}\n",
    "\n",
    "maximos = {}\n",
    "\n",
    "# Calcular el precio máximo de cada producto (conversión para cebolla)\n",
    "for producto, precios in precio_origen.items():\n",
    "    if producto == \"cebolla\":\n",
    "        max_precio = max(precio / 100 for precio in precios)  # convertir a euros\n",
    "    else:\n",
    "        max_precio = max(precios)\n",
    "    maximos[producto] = max_precio\n",
    "    print(f\"Precio máximo de {producto}: {max_precio:.2f} euros\")\n",
    "\n",
    "# Determinar el producto más caro (según su precio máximo)\n",
    "producto_caro = max(maximos, key=maximos.get)\n",
    "print(f\"\\nEl producto más caro es: {producto_caro}\")\n",
    "\n",
    "# Para las naranjas, determinar en qué día se alcanza el precio máximo\n",
    "precios_naranja = precio_origen[\"naranja\"]\n",
    "indice_max = precios_naranja.index(max(precios_naranja))\n",
    "# Asumiendo que el primer valor corresponde al día 1\n",
    "print(f\"Las naranjas son más caras el día: {indice_max + 1}\")\n"
   ]
  },
  {
   "cell_type": "code",
   "execution_count": 5,
   "id": "9e4372c7-a8f5-4399-8a0f-419c55ced614",
   "metadata": {},
   "outputs": [
    {
     "name": "stdout",
     "output_type": "stream",
     "text": [
      "Valor total del inventario por categoría:\n",
      "Electrónica: 4750.00 euros\n",
      "Alimentos: 134.00 euros\n",
      "Ropa: 1350.00 euros\n",
      "\n",
      "La categoría con mayor valor en inventario es: Electrónica\n",
      "Stock de 'Leche' actualizado a 45 unidades en la categoría 'Alimentos'.\n"
     ]
    }
   ],
   "source": [
    "# 1. Diccionario de inventario de ejemplo\n",
    "inventario = {\n",
    "    \"Electrónica\": [\n",
    "        (\"Televisor\", 500, 8),\n",
    "        (\"Radio\", 50, 15)\n",
    "    ],\n",
    "    \"Alimentos\": [\n",
    "        (\"Pan\", 1.2, 50),\n",
    "        (\"Leche\", 0.8, 30),\n",
    "        (\"Queso\", 2.5, 20)\n",
    "    ],\n",
    "    \"Ropa\": [\n",
    "        (\"Camiseta\", 15, 40),\n",
    "        (\"Pantalón\", 30, 25)\n",
    "    ]\n",
    "}\n",
    "\n",
    "# 2. Función para calcular el valor total del inventario por categoría\n",
    "def valor_inventario(inventario):\n",
    "    \"\"\"Calcula y devuelve un diccionario con el valor total de inventario por categoría.\"\"\"\n",
    "    valores = {}\n",
    "    for categoria, productos in inventario.items():\n",
    "        total = sum(precio * cantidad for _, precio, cantidad in productos)\n",
    "        valores[categoria] = total\n",
    "    return valores\n",
    "\n",
    "# 3. Función para actualizar el stock de un producto en una categoría específica\n",
    "def actualizar_stock(inventario, categoria, producto, nueva_cantidad):\n",
    "    \"\"\"\n",
    "    Actualiza el stock de 'producto' en la 'categoria' dada.\n",
    "    Si la categoría o el producto no existen, muestra un mensaje de error.\n",
    "    \"\"\"\n",
    "    if categoria not in inventario:\n",
    "        print(f\"Categoría '{categoria}' no encontrada.\")\n",
    "        return\n",
    "    \n",
    "    actualizado = False\n",
    "    nueva_lista = []\n",
    "    for prod, precio, cantidad in inventario[categoria]:\n",
    "        if prod == producto:\n",
    "            nueva_lista.append((prod, precio, nueva_cantidad))\n",
    "            actualizado = True\n",
    "        else:\n",
    "            nueva_lista.append((prod, precio, cantidad))\n",
    "    \n",
    "    if actualizado:\n",
    "        inventario[categoria] = nueva_lista\n",
    "        print(f\"Stock de '{producto}' actualizado a {nueva_cantidad} unidades en la categoría '{categoria}'.\")\n",
    "    else:\n",
    "        print(f\"Producto '{producto}' no encontrado en la categoría '{categoria}'.\")\n",
    "\n",
    "# Ejemplo de uso:\n",
    "valores = valor_inventario(inventario)\n",
    "print(\"Valor total del inventario por categoría:\")\n",
    "for cat, valor in valores.items():\n",
    "    print(f\"{cat}: {valor:.2f} euros\")\n",
    "\n",
    "categoria_max = max(valores, key=valores.get)\n",
    "print(f\"\\nLa categoría con mayor valor en inventario es: {categoria_max}\")\n",
    "\n",
    "# Actualizar stock de un producto\n",
    "actualizar_stock(inventario, \"Alimentos\", \"Leche\", 45)\n"
   ]
  },
  {
   "cell_type": "markdown",
   "id": "bf06beb0-983e-4fbd-9c53-8a5b4903cdbe",
   "metadata": {},
   "source": []
  },
  {
   "cell_type": "code",
   "execution_count": 1,
   "id": "b4c75f7c-3bae-44d4-8fab-56c381ec088a",
   "metadata": {},
   "outputs": [
    {
     "ename": "SyntaxError",
     "evalue": "invalid syntax (3676781498.py, line 1)",
     "output_type": "error",
     "traceback": [
      "\u001b[0;36m  Cell \u001b[0;32mIn[1], line 1\u001b[0;36m\u001b[0m\n\u001b[0;31m    Repositorio en GitHub: [https://github.com/an242/Entregab-pandas.git](https://github.com/an242/Entregab-pandas.git)\u001b[0m\n\u001b[0m                ^\u001b[0m\n\u001b[0;31mSyntaxError\u001b[0m\u001b[0;31m:\u001b[0m invalid syntax\n"
     ]
    }
   ],
   "source": [
    "Repositorio en GitHub: [https://github.com/an242/Entregab-pandas.git](https://github.com/an242/Entregab-pandas.git)\n",
    "\n",
    "\n"
   ]
  },
  {
   "cell_type": "code",
   "execution_count": null,
   "id": "7e817df6-a6d0-4d0b-babc-0d536b13438c",
   "metadata": {},
   "outputs": [],
   "source": []
  },
  {
   "cell_type": "code",
   "execution_count": null,
   "id": "31bfce29-ed3a-49f9-9b47-978cdd561ce1",
   "metadata": {},
   "outputs": [],
   "source": []
  },
  {
   "cell_type": "code",
   "execution_count": null,
   "id": "a779ef06-4f8c-4490-9d79-ccc7c96eb9ec",
   "metadata": {},
   "outputs": [],
   "source": []
  },
  {
   "cell_type": "code",
   "execution_count": null,
   "id": "0698ac02-1c10-4568-97ec-eb29ae92e7ee",
   "metadata": {},
   "outputs": [],
   "source": []
  },
  {
   "cell_type": "code",
   "execution_count": null,
   "id": "88b16e1d-cd8c-482a-8542-6c4252e5e104",
   "metadata": {},
   "outputs": [],
   "source": []
  },
  {
   "cell_type": "code",
   "execution_count": null,
   "id": "cb3636ce-6453-494b-9d0c-339e96d0a538",
   "metadata": {},
   "outputs": [],
   "source": []
  },
  {
   "cell_type": "code",
   "execution_count": null,
   "id": "7b175b87-9ca0-4784-9c93-916d6d970187",
   "metadata": {},
   "outputs": [],
   "source": []
  },
  {
   "cell_type": "code",
   "execution_count": null,
   "id": "b816ccea-4236-44d4-8fd9-ce472ee3c9d9",
   "metadata": {},
   "outputs": [],
   "source": []
  },
  {
   "cell_type": "code",
   "execution_count": null,
   "id": "0eba2724-8365-4a59-94aa-f72895861208",
   "metadata": {},
   "outputs": [],
   "source": []
  },
  {
   "cell_type": "code",
   "execution_count": null,
   "id": "4294a441-d12a-4e85-adfd-3730ecb26724",
   "metadata": {},
   "outputs": [],
   "source": []
  },
  {
   "cell_type": "code",
   "execution_count": null,
   "id": "6a54ad72-d628-4253-8c37-c7012ef05392",
   "metadata": {},
   "outputs": [],
   "source": []
  },
  {
   "cell_type": "code",
   "execution_count": null,
   "id": "e6a63ddf-7d62-47b6-bc0d-3c5fe2573b3a",
   "metadata": {},
   "outputs": [],
   "source": []
  },
  {
   "cell_type": "code",
   "execution_count": null,
   "id": "6b6e6a57-f3e7-4c30-a851-67b86b2cd0d7",
   "metadata": {},
   "outputs": [],
   "source": []
  },
  {
   "cell_type": "code",
   "execution_count": null,
   "id": "3c71be75-7660-48e2-8a51-f8a84837ed10",
   "metadata": {},
   "outputs": [],
   "source": []
  },
  {
   "cell_type": "code",
   "execution_count": null,
   "id": "a6ae7624-bfad-450d-844d-f86c64930f77",
   "metadata": {},
   "outputs": [],
   "source": []
  },
  {
   "cell_type": "code",
   "execution_count": null,
   "id": "e0908e32-636f-46fc-8ba4-d6ec81b5b9dc",
   "metadata": {},
   "outputs": [],
   "source": []
  },
  {
   "cell_type": "code",
   "execution_count": null,
   "id": "bf2e0e4d-f64d-4c61-9387-4a58d49d4e54",
   "metadata": {},
   "outputs": [],
   "source": []
  },
  {
   "cell_type": "code",
   "execution_count": null,
   "id": "0dc30d60-0ce6-4adc-9252-0cbc73d3fa92",
   "metadata": {},
   "outputs": [],
   "source": []
  },
  {
   "cell_type": "code",
   "execution_count": null,
   "id": "5fbb1b1d-b8e0-4fd3-9824-b48ca7b47677",
   "metadata": {},
   "outputs": [],
   "source": []
  },
  {
   "cell_type": "code",
   "execution_count": null,
   "id": "c943a147-cbbc-466e-b3eb-b3fa899dcb6e",
   "metadata": {},
   "outputs": [],
   "source": []
  },
  {
   "cell_type": "code",
   "execution_count": null,
   "id": "0f01cbe1-7ac9-426c-93fe-9e986119483e",
   "metadata": {},
   "outputs": [],
   "source": []
  },
  {
   "cell_type": "code",
   "execution_count": null,
   "id": "a83207c9-e5cd-4d28-95fc-450f1f3852a0",
   "metadata": {},
   "outputs": [],
   "source": []
  },
  {
   "cell_type": "code",
   "execution_count": null,
   "id": "e7fd859e-7c5b-483e-a072-bf8e107eeaa4",
   "metadata": {},
   "outputs": [],
   "source": []
  },
  {
   "cell_type": "code",
   "execution_count": null,
   "id": "a27e3654-9b78-44dd-91cb-0c664a5b95bf",
   "metadata": {},
   "outputs": [],
   "source": []
  },
  {
   "cell_type": "code",
   "execution_count": null,
   "id": "b195af7c-80c6-4c4d-9ac9-c79b7d3968b7",
   "metadata": {},
   "outputs": [],
   "source": []
  }
 ],
 "metadata": {
  "kernelspec": {
   "display_name": "Python 3 (ipykernel)",
   "language": "python",
   "name": "python3"
  },
  "language_info": {
   "codemirror_mode": {
    "name": "ipython",
    "version": 3
   },
   "file_extension": ".py",
   "mimetype": "text/x-python",
   "name": "python",
   "nbconvert_exporter": "python",
   "pygments_lexer": "ipython3",
   "version": "3.13.0"
  }
 },
 "nbformat": 4,
 "nbformat_minor": 5
}
